{
 "cells": [
  {
   "cell_type": "markdown",
   "id": "b492ebad",
   "metadata": {},
   "source": [
    "### Пет-проект на тему *Данные о бронировании отелей*\n",
    "\n",
    "```\n",
    "Импорт библиотеки pandas\n",
    "```"
   ]
  },
  {
   "cell_type": "code",
   "execution_count": 118,
   "id": "3ce4af05",
   "metadata": {},
   "outputs": [],
   "source": [
    "import pandas as pd"
   ]
  },
  {
   "cell_type": "markdown",
   "id": "e4dd396c",
   "metadata": {},
   "source": [
    "```\n",
    "Загрузка .csv файла с кодировкой windows-1251 и разделителем ';'\n",
    "```"
   ]
  },
  {
   "cell_type": "code",
   "execution_count": 119,
   "id": "7b39baba",
   "metadata": {},
   "outputs": [],
   "source": [
    "bk = pd.read_csv('https://stepik.org/media/attachments/lesson/360344/bookings.csv', \n",
    "                     encoding = 'windows-1251', \n",
    "                     sep = ';')"
   ]
  },
  {
   "cell_type": "code",
   "execution_count": 120,
   "id": "a2660257",
   "metadata": {},
   "outputs": [],
   "source": [
    "bookings_head = bk[:7]"
   ]
  },
  {
   "cell_type": "markdown",
   "id": "d819b6e3",
   "metadata": {},
   "source": [
    "```\n",
    "Проверка размеров таблицы и типов переменных в ней\n",
    "```"
   ]
  },
  {
   "cell_type": "code",
   "execution_count": 121,
   "id": "6cde8c92",
   "metadata": {},
   "outputs": [
    {
     "data": {
      "text/plain": [
       "(119390, 21)"
      ]
     },
     "execution_count": 121,
     "metadata": {},
     "output_type": "execute_result"
    }
   ],
   "source": [
    "bk.shape"
   ]
  },
  {
   "cell_type": "code",
   "execution_count": 122,
   "id": "321fa5d4",
   "metadata": {},
   "outputs": [
    {
     "data": {
      "text/plain": [
       "Hotel                         object\n",
       "Is Canceled                    int64\n",
       "Lead Time                      int64\n",
       "arrival full date             object\n",
       "Arrival Date Year              int64\n",
       "Arrival Date Month            object\n",
       "Arrival Date Week Number       int64\n",
       "Arrival Date Day of Month      int64\n",
       "Stays in Weekend nights        int64\n",
       "Stays in week nights           int64\n",
       "stays total nights             int64\n",
       "Adults                         int64\n",
       "Children                     float64\n",
       "Babies                         int64\n",
       "Meal                          object\n",
       "Country                       object\n",
       "Reserved Room Type            object\n",
       "Assigned room type            object\n",
       "customer type                 object\n",
       "Reservation Status            object\n",
       "Reservation status_date       object\n",
       "dtype: object"
      ]
     },
     "execution_count": 122,
     "metadata": {},
     "output_type": "execute_result"
    }
   ],
   "source": [
    "bk.dtypes"
   ]
  },
  {
   "cell_type": "markdown",
   "id": "a3f76cc4",
   "metadata": {},
   "source": [
    "```\n",
    "Стандартизируем названия колонок\n",
    "```"
   ]
  },
  {
   "cell_type": "code",
   "execution_count": 123,
   "id": "154842cf",
   "metadata": {},
   "outputs": [],
   "source": [
    "bk = bk.rename(columns = {'Hotel' : 'hotel', \n",
    "                     'Is Canceled' : 'is_cancelled', \n",
    "                     'Lead Time' : 'lead_time', \n",
    "                     'arrival full date' : 'arrival_full_date',\n",
    "                     'Arrival Date Year' : 'arrival_date_year', \n",
    "                     'Arrival Date Month' : 'arrival_date_month', \n",
    "                     'Arrival Date Week Number' : 'arrival_date_week_number',\n",
    "                     'Arrival Date Day of Month' : 'arrival_date_day_of_month', \n",
    "                     'Stays in Weekend nights' : 'stays_in_weekend_nights',\n",
    "                     'Stays in week nights' : 'stays_in_week_nights', \n",
    "                     'stays total nights' : 'stays_total_nights',\n",
    "                     'Adults' : 'adults', \n",
    "                     'Children' : 'children',\n",
    "                     'Babies' : 'babies', \n",
    "                     'Meal' : 'meal', \n",
    "                     'Country' : 'country', \n",
    "                     'Reserved Room Type' : 'reserved_room_type', \n",
    "                     'Assigned room type' : 'assigned_room_type',\n",
    "                     'customer type' : 'customer_type', \n",
    "                     'Reservation Status' : 'reservation_status', \n",
    "                     'Reservation status_date' : 'reservation_status_date'})"
   ]
  },
  {
   "cell_type": "markdown",
   "id": "6d889786",
   "metadata": {},
   "source": [
    "\n",
    ">Топ-5 стран, из которых пользователи совершили наибольшее число бронирований\n"
   ]
  },
  {
   "cell_type": "code",
   "execution_count": 126,
   "id": "b8397993",
   "metadata": {},
   "outputs": [
    {
     "data": {
      "text/html": [
       "<div>\n",
       "<style scoped>\n",
       "    .dataframe tbody tr th:only-of-type {\n",
       "        vertical-align: middle;\n",
       "    }\n",
       "\n",
       "    .dataframe tbody tr th {\n",
       "        vertical-align: top;\n",
       "    }\n",
       "\n",
       "    .dataframe thead th {\n",
       "        text-align: right;\n",
       "    }\n",
       "</style>\n",
       "<table border=\"1\" class=\"dataframe\">\n",
       "  <thead>\n",
       "    <tr style=\"text-align: right;\">\n",
       "      <th></th>\n",
       "      <th>country</th>\n",
       "      <th>is_cancelled</th>\n",
       "    </tr>\n",
       "  </thead>\n",
       "  <tbody>\n",
       "    <tr>\n",
       "      <th>125</th>\n",
       "      <td>PRT</td>\n",
       "      <td>21071</td>\n",
       "    </tr>\n",
       "    <tr>\n",
       "      <th>57</th>\n",
       "      <td>GBR</td>\n",
       "      <td>9676</td>\n",
       "    </tr>\n",
       "    <tr>\n",
       "      <th>54</th>\n",
       "      <td>FRA</td>\n",
       "      <td>8481</td>\n",
       "    </tr>\n",
       "    <tr>\n",
       "      <th>50</th>\n",
       "      <td>ESP</td>\n",
       "      <td>6391</td>\n",
       "    </tr>\n",
       "    <tr>\n",
       "      <th>42</th>\n",
       "      <td>DEU</td>\n",
       "      <td>6069</td>\n",
       "    </tr>\n",
       "  </tbody>\n",
       "</table>\n",
       "</div>"
      ],
      "text/plain": [
       "    country  is_cancelled\n",
       "125     PRT         21071\n",
       "57      GBR          9676\n",
       "54      FRA          8481\n",
       "50      ESP          6391\n",
       "42      DEU          6069"
      ]
     },
     "execution_count": 126,
     "metadata": {},
     "output_type": "execute_result"
    }
   ],
   "source": [
    "bk.query('is_cancelled == 0')\\\n",
    "    .groupby('country', as_index = False)\\\n",
    "    .agg({'is_cancelled':'count'})\\\n",
    "    .sort_values('is_cancelled', ascending = False)[:5]"
   ]
  },
  {
   "cell_type": "markdown",
   "id": "b6e5f107",
   "metadata": {},
   "source": [
    "\n",
    ">На сколько ночей в среднем бронируют отели разных типов\n"
   ]
  },
  {
   "cell_type": "code",
   "execution_count": 127,
   "id": "8c4844d3",
   "metadata": {},
   "outputs": [
    {
     "data": {
      "text/html": [
       "<div>\n",
       "<style scoped>\n",
       "    .dataframe tbody tr th:only-of-type {\n",
       "        vertical-align: middle;\n",
       "    }\n",
       "\n",
       "    .dataframe tbody tr th {\n",
       "        vertical-align: top;\n",
       "    }\n",
       "\n",
       "    .dataframe thead th {\n",
       "        text-align: right;\n",
       "    }\n",
       "</style>\n",
       "<table border=\"1\" class=\"dataframe\">\n",
       "  <thead>\n",
       "    <tr style=\"text-align: right;\">\n",
       "      <th></th>\n",
       "      <th>hotel</th>\n",
       "      <th>stays_total_nights</th>\n",
       "    </tr>\n",
       "  </thead>\n",
       "  <tbody>\n",
       "    <tr>\n",
       "      <th>0</th>\n",
       "      <td>City Hotel</td>\n",
       "      <td>2.98</td>\n",
       "    </tr>\n",
       "    <tr>\n",
       "      <th>1</th>\n",
       "      <td>Resort Hotel</td>\n",
       "      <td>4.32</td>\n",
       "    </tr>\n",
       "  </tbody>\n",
       "</table>\n",
       "</div>"
      ],
      "text/plain": [
       "          hotel  stays_total_nights\n",
       "0    City Hotel                2.98\n",
       "1  Resort Hotel                4.32"
      ]
     },
     "execution_count": 127,
     "metadata": {},
     "output_type": "execute_result"
    }
   ],
   "source": [
    "round(bk.groupby('hotel', as_index = False)\\\n",
    "    .agg({'stays_total_nights':'mean'}),2)"
   ]
  },
  {
   "cell_type": "markdown",
   "id": "aecb2f5b",
   "metadata": {},
   "source": [
    ">Сколько раз фактический номер отличался от забронированного"
   ]
  },
  {
   "cell_type": "code",
   "execution_count": 68,
   "id": "035e44f1",
   "metadata": {},
   "outputs": [
    {
     "data": {
      "text/plain": [
       "assigned_room_type    14917\n",
       "dtype: int64"
      ]
     },
     "execution_count": 68,
     "metadata": {},
     "output_type": "execute_result"
    }
   ],
   "source": [
    "bk.query('assigned_room_type != reserved_room_type')\\\n",
    "    .agg({'assigned_room_type':'count'})"
   ]
  },
  {
   "cell_type": "markdown",
   "id": "f085ad6e",
   "metadata": {},
   "source": [
    ">Самые популярные месяцы для брони в 2016 и 2017"
   ]
  },
  {
   "cell_type": "code",
   "execution_count": 136,
   "id": "9185b946",
   "metadata": {},
   "outputs": [
    {
     "data": {
      "text/html": [
       "<div>\n",
       "<style scoped>\n",
       "    .dataframe tbody tr th:only-of-type {\n",
       "        vertical-align: middle;\n",
       "    }\n",
       "\n",
       "    .dataframe tbody tr th {\n",
       "        vertical-align: top;\n",
       "    }\n",
       "\n",
       "    .dataframe thead th {\n",
       "        text-align: right;\n",
       "    }\n",
       "</style>\n",
       "<table border=\"1\" class=\"dataframe\">\n",
       "  <thead>\n",
       "    <tr style=\"text-align: right;\">\n",
       "      <th></th>\n",
       "      <th>arrival_date_month</th>\n",
       "      <th>country</th>\n",
       "    </tr>\n",
       "  </thead>\n",
       "  <tbody>\n",
       "    <tr>\n",
       "      <th>10</th>\n",
       "      <td>October</td>\n",
       "      <td>6176</td>\n",
       "    </tr>\n",
       "  </tbody>\n",
       "</table>\n",
       "</div>"
      ],
      "text/plain": [
       "   arrival_date_month  country\n",
       "10            October     6176"
      ]
     },
     "execution_count": 136,
     "metadata": {},
     "output_type": "execute_result"
    }
   ],
   "source": [
    "bk.query('arrival_date_year == 2016')\\\n",
    "    .groupby('arrival_date_month', as_index = False)\\\n",
    "    .agg({'country':'count'})\\\n",
    "    .sort_values('country', ascending = False)[:1]"
   ]
  },
  {
   "cell_type": "code",
   "execution_count": 137,
   "id": "1359a17f",
   "metadata": {},
   "outputs": [
    {
     "data": {
      "text/html": [
       "<div>\n",
       "<style scoped>\n",
       "    .dataframe tbody tr th:only-of-type {\n",
       "        vertical-align: middle;\n",
       "    }\n",
       "\n",
       "    .dataframe tbody tr th {\n",
       "        vertical-align: top;\n",
       "    }\n",
       "\n",
       "    .dataframe thead th {\n",
       "        text-align: right;\n",
       "    }\n",
       "</style>\n",
       "<table border=\"1\" class=\"dataframe\">\n",
       "  <thead>\n",
       "    <tr style=\"text-align: right;\">\n",
       "      <th></th>\n",
       "      <th>arrival_date_month</th>\n",
       "      <th>country</th>\n",
       "    </tr>\n",
       "  </thead>\n",
       "  <tbody>\n",
       "    <tr>\n",
       "      <th>7</th>\n",
       "      <td>May</td>\n",
       "      <td>6313</td>\n",
       "    </tr>\n",
       "  </tbody>\n",
       "</table>\n",
       "</div>"
      ],
      "text/plain": [
       "  arrival_date_month  country\n",
       "7                May     6313"
      ]
     },
     "execution_count": 137,
     "metadata": {},
     "output_type": "execute_result"
    }
   ],
   "source": [
    "bk.query('arrival_date_year == 2017')\\\n",
    "    .groupby('arrival_date_month', as_index = False)\\\n",
    "    .agg({'country':'count'})\\\n",
    "    .sort_values('country', ascending = False)[:1]"
   ]
  },
  {
   "cell_type": "markdown",
   "id": "61776976",
   "metadata": {},
   "source": [
    "> В какой месяц бронирования отеля типа City Hotel отменялись чаще всего в каждом году."
   ]
  },
  {
   "cell_type": "code",
   "execution_count": 79,
   "id": "4ad9ad96",
   "metadata": {},
   "outputs": [
    {
     "data": {
      "text/html": [
       "<div>\n",
       "<style scoped>\n",
       "    .dataframe tbody tr th:only-of-type {\n",
       "        vertical-align: middle;\n",
       "    }\n",
       "\n",
       "    .dataframe tbody tr th {\n",
       "        vertical-align: top;\n",
       "    }\n",
       "\n",
       "    .dataframe thead th {\n",
       "        text-align: right;\n",
       "    }\n",
       "</style>\n",
       "<table border=\"1\" class=\"dataframe\">\n",
       "  <thead>\n",
       "    <tr style=\"text-align: right;\">\n",
       "      <th></th>\n",
       "      <th>arrival_date_year</th>\n",
       "      <th>arrival_date_month</th>\n",
       "      <th>is_cancelled</th>\n",
       "    </tr>\n",
       "  </thead>\n",
       "  <tbody>\n",
       "    <tr>\n",
       "      <th>25</th>\n",
       "      <td>2017</td>\n",
       "      <td>May</td>\n",
       "      <td>2217</td>\n",
       "    </tr>\n",
       "    <tr>\n",
       "      <th>18</th>\n",
       "      <td>2017</td>\n",
       "      <td>April</td>\n",
       "      <td>1926</td>\n",
       "    </tr>\n",
       "    <tr>\n",
       "      <th>23</th>\n",
       "      <td>2017</td>\n",
       "      <td>June</td>\n",
       "      <td>1808</td>\n",
       "    </tr>\n",
       "    <tr>\n",
       "      <th>22</th>\n",
       "      <td>2017</td>\n",
       "      <td>July</td>\n",
       "      <td>1324</td>\n",
       "    </tr>\n",
       "    <tr>\n",
       "      <th>24</th>\n",
       "      <td>2017</td>\n",
       "      <td>March</td>\n",
       "      <td>1278</td>\n",
       "    </tr>\n",
       "    <tr>\n",
       "      <th>19</th>\n",
       "      <td>2017</td>\n",
       "      <td>August</td>\n",
       "      <td>1123</td>\n",
       "    </tr>\n",
       "    <tr>\n",
       "      <th>21</th>\n",
       "      <td>2017</td>\n",
       "      <td>January</td>\n",
       "      <td>1044</td>\n",
       "    </tr>\n",
       "    <tr>\n",
       "      <th>20</th>\n",
       "      <td>2017</td>\n",
       "      <td>February</td>\n",
       "      <td>971</td>\n",
       "    </tr>\n",
       "    <tr>\n",
       "      <th>16</th>\n",
       "      <td>2016</td>\n",
       "      <td>October</td>\n",
       "      <td>1947</td>\n",
       "    </tr>\n",
       "    <tr>\n",
       "      <th>12</th>\n",
       "      <td>2016</td>\n",
       "      <td>June</td>\n",
       "      <td>1720</td>\n",
       "    </tr>\n",
       "    <tr>\n",
       "      <th>17</th>\n",
       "      <td>2016</td>\n",
       "      <td>September</td>\n",
       "      <td>1567</td>\n",
       "    </tr>\n",
       "    <tr>\n",
       "      <th>6</th>\n",
       "      <td>2016</td>\n",
       "      <td>April</td>\n",
       "      <td>1539</td>\n",
       "    </tr>\n",
       "    <tr>\n",
       "      <th>14</th>\n",
       "      <td>2016</td>\n",
       "      <td>May</td>\n",
       "      <td>1436</td>\n",
       "    </tr>\n",
       "    <tr>\n",
       "      <th>15</th>\n",
       "      <td>2016</td>\n",
       "      <td>November</td>\n",
       "      <td>1360</td>\n",
       "    </tr>\n",
       "    <tr>\n",
       "      <th>7</th>\n",
       "      <td>2016</td>\n",
       "      <td>August</td>\n",
       "      <td>1247</td>\n",
       "    </tr>\n",
       "    <tr>\n",
       "      <th>13</th>\n",
       "      <td>2016</td>\n",
       "      <td>March</td>\n",
       "      <td>1108</td>\n",
       "    </tr>\n",
       "    <tr>\n",
       "      <th>8</th>\n",
       "      <td>2016</td>\n",
       "      <td>December</td>\n",
       "      <td>1072</td>\n",
       "    </tr>\n",
       "    <tr>\n",
       "      <th>11</th>\n",
       "      <td>2016</td>\n",
       "      <td>July</td>\n",
       "      <td>1043</td>\n",
       "    </tr>\n",
       "    <tr>\n",
       "      <th>9</th>\n",
       "      <td>2016</td>\n",
       "      <td>February</td>\n",
       "      <td>930</td>\n",
       "    </tr>\n",
       "    <tr>\n",
       "      <th>10</th>\n",
       "      <td>2016</td>\n",
       "      <td>January</td>\n",
       "      <td>438</td>\n",
       "    </tr>\n",
       "    <tr>\n",
       "      <th>5</th>\n",
       "      <td>2015</td>\n",
       "      <td>September</td>\n",
       "      <td>1543</td>\n",
       "    </tr>\n",
       "    <tr>\n",
       "      <th>4</th>\n",
       "      <td>2015</td>\n",
       "      <td>October</td>\n",
       "      <td>1321</td>\n",
       "    </tr>\n",
       "    <tr>\n",
       "      <th>0</th>\n",
       "      <td>2015</td>\n",
       "      <td>August</td>\n",
       "      <td>1232</td>\n",
       "    </tr>\n",
       "    <tr>\n",
       "      <th>2</th>\n",
       "      <td>2015</td>\n",
       "      <td>July</td>\n",
       "      <td>939</td>\n",
       "    </tr>\n",
       "    <tr>\n",
       "      <th>1</th>\n",
       "      <td>2015</td>\n",
       "      <td>December</td>\n",
       "      <td>668</td>\n",
       "    </tr>\n",
       "    <tr>\n",
       "      <th>3</th>\n",
       "      <td>2015</td>\n",
       "      <td>November</td>\n",
       "      <td>301</td>\n",
       "    </tr>\n",
       "  </tbody>\n",
       "</table>\n",
       "</div>"
      ],
      "text/plain": [
       "    arrival_date_year arrival_date_month  is_cancelled\n",
       "25               2017                May          2217\n",
       "18               2017              April          1926\n",
       "23               2017               June          1808\n",
       "22               2017               July          1324\n",
       "24               2017              March          1278\n",
       "19               2017             August          1123\n",
       "21               2017            January          1044\n",
       "20               2017           February           971\n",
       "16               2016            October          1947\n",
       "12               2016               June          1720\n",
       "17               2016          September          1567\n",
       "6                2016              April          1539\n",
       "14               2016                May          1436\n",
       "15               2016           November          1360\n",
       "7                2016             August          1247\n",
       "13               2016              March          1108\n",
       "8                2016           December          1072\n",
       "11               2016               July          1043\n",
       "9                2016           February           930\n",
       "10               2016            January           438\n",
       "5                2015          September          1543\n",
       "4                2015            October          1321\n",
       "0                2015             August          1232\n",
       "2                2015               July           939\n",
       "1                2015           December           668\n",
       "3                2015           November           301"
      ]
     },
     "execution_count": 79,
     "metadata": {},
     "output_type": "execute_result"
    }
   ],
   "source": [
    "bk.query('hotel == \"City Hotel\" & is_cancelled == 1')\\\n",
    "    .groupby(['arrival_date_year','arrival_date_month'], as_index = False)\\\n",
    "    .agg({'is_cancelled':'count'})\\\n",
    "    .sort_values(['arrival_date_year','is_cancelled'], ascending = False)"
   ]
  },
  {
   "cell_type": "markdown",
   "id": "bb9c8265",
   "metadata": {},
   "source": [
    "> Какая из числовых характеристик adults, children и babies имеет наибольшее среднее значение"
   ]
  },
  {
   "cell_type": "code",
   "execution_count": 90,
   "id": "78e5d8ad",
   "metadata": {},
   "outputs": [
    {
     "data": {
      "text/html": [
       "<div>\n",
       "<style scoped>\n",
       "    .dataframe tbody tr th:only-of-type {\n",
       "        vertical-align: middle;\n",
       "    }\n",
       "\n",
       "    .dataframe tbody tr th {\n",
       "        vertical-align: top;\n",
       "    }\n",
       "\n",
       "    .dataframe thead th {\n",
       "        text-align: right;\n",
       "    }\n",
       "</style>\n",
       "<table border=\"1\" class=\"dataframe\">\n",
       "  <thead>\n",
       "    <tr style=\"text-align: right;\">\n",
       "      <th></th>\n",
       "      <th>is_cancelled</th>\n",
       "      <th>lead_time</th>\n",
       "      <th>arrival_date_year</th>\n",
       "      <th>arrival_date_week_number</th>\n",
       "      <th>arrival_date_day_of_month</th>\n",
       "      <th>stays_in_weekend_nights</th>\n",
       "      <th>stays_in_week_nights</th>\n",
       "      <th>stays_total_nights</th>\n",
       "      <th>adults</th>\n",
       "      <th>children</th>\n",
       "      <th>babies</th>\n",
       "    </tr>\n",
       "  </thead>\n",
       "  <tbody>\n",
       "    <tr>\n",
       "      <th>mean</th>\n",
       "      <td>0.370416</td>\n",
       "      <td>104.011416</td>\n",
       "      <td>2016.156554</td>\n",
       "      <td>27.165173</td>\n",
       "      <td>15.798241</td>\n",
       "      <td>0.927599</td>\n",
       "      <td>2.500302</td>\n",
       "      <td>3.4279</td>\n",
       "      <td>1.856403</td>\n",
       "      <td>0.10389</td>\n",
       "      <td>0.007949</td>\n",
       "    </tr>\n",
       "  </tbody>\n",
       "</table>\n",
       "</div>"
      ],
      "text/plain": [
       "      is_cancelled   lead_time  arrival_date_year  arrival_date_week_number  \\\n",
       "mean      0.370416  104.011416        2016.156554                 27.165173   \n",
       "\n",
       "      arrival_date_day_of_month  stays_in_weekend_nights  \\\n",
       "mean                  15.798241                 0.927599   \n",
       "\n",
       "      stays_in_week_nights  stays_total_nights    adults  children    babies  \n",
       "mean              2.500302              3.4279  1.856403   0.10389  0.007949  "
      ]
     },
     "execution_count": 90,
     "metadata": {},
     "output_type": "execute_result"
    }
   ],
   "source": [
    "bk.describe()[1:2]"
   ]
  },
  {
   "cell_type": "markdown",
   "id": "334381ee",
   "metadata": {},
   "source": [
    "> Создадим колонку total_kids, объединив children и babies. Отели какого типа в среднем пользуются большей популярностью у клиентов с детьми? "
   ]
  },
  {
   "cell_type": "code",
   "execution_count": 139,
   "id": "73306181",
   "metadata": {},
   "outputs": [],
   "source": [
    "bk['total_kids'] = bk.children + bk.babies"
   ]
  },
  {
   "cell_type": "code",
   "execution_count": 141,
   "id": "84cc2adb",
   "metadata": {},
   "outputs": [
    {
     "data": {
      "text/html": [
       "<div>\n",
       "<style scoped>\n",
       "    .dataframe tbody tr th:only-of-type {\n",
       "        vertical-align: middle;\n",
       "    }\n",
       "\n",
       "    .dataframe tbody tr th {\n",
       "        vertical-align: top;\n",
       "    }\n",
       "\n",
       "    .dataframe thead th {\n",
       "        text-align: right;\n",
       "    }\n",
       "</style>\n",
       "<table border=\"1\" class=\"dataframe\">\n",
       "  <thead>\n",
       "    <tr style=\"text-align: right;\">\n",
       "      <th></th>\n",
       "      <th>hotel</th>\n",
       "      <th>total_kids</th>\n",
       "    </tr>\n",
       "  </thead>\n",
       "  <tbody>\n",
       "    <tr>\n",
       "      <th>1</th>\n",
       "      <td>Resort Hotel</td>\n",
       "      <td>0.14</td>\n",
       "    </tr>\n",
       "    <tr>\n",
       "      <th>0</th>\n",
       "      <td>City Hotel</td>\n",
       "      <td>0.10</td>\n",
       "    </tr>\n",
       "  </tbody>\n",
       "</table>\n",
       "</div>"
      ],
      "text/plain": [
       "          hotel  total_kids\n",
       "1  Resort Hotel        0.14\n",
       "0    City Hotel        0.10"
      ]
     },
     "execution_count": 141,
     "metadata": {},
     "output_type": "execute_result"
    }
   ],
   "source": [
    "round(bk.groupby('hotel', as_index = False)\\\n",
    "    .agg({'total_kids' : 'mean'})\\\n",
    "    .sort_values('total_kids', ascending = False),2)"
   ]
  },
  {
   "cell_type": "markdown",
   "id": "58e9a6e8",
   "metadata": {},
   "source": [
    "> Создадим переменную has_kids, которая принимает значение True, если клиент при бронировании указал хотя бы одного ребенка (total_kids), и False – в противном случае. Посчитаем отношение количества ушедших пользователей к общему количеству клиентов, выраженное в процентах (churn rate). Укажите, среди какой группы показатель выше."
   ]
  },
  {
   "cell_type": "code",
   "execution_count": 142,
   "id": "40c925bc",
   "metadata": {},
   "outputs": [],
   "source": [
    "bk['has_kids'] = bk['total_kids'] > 0"
   ]
  },
  {
   "cell_type": "code",
   "execution_count": 145,
   "id": "e3dfd3fe",
   "metadata": {},
   "outputs": [
    {
     "data": {
      "text/plain": [
       "hotel    0.349228\n",
       "dtype: float64"
      ]
     },
     "execution_count": 145,
     "metadata": {},
     "output_type": "execute_result"
    }
   ],
   "source": [
    "bk.query('has_kids == True and is_cancelled == 1').agg({'hotel'  : 'count'}) / bk.query('has_kids == True').agg({'hotel'  : 'count'})"
   ]
  },
  {
   "cell_type": "code",
   "execution_count": 146,
   "id": "84fdc92f",
   "metadata": {},
   "outputs": [
    {
     "data": {
      "text/plain": [
       "hotel    0.372213\n",
       "dtype: float64"
      ]
     },
     "execution_count": 146,
     "metadata": {},
     "output_type": "execute_result"
    }
   ],
   "source": [
    "bk.query('has_kids == False and is_cancelled == 1').agg({'hotel'  : 'count'}) / bk.query('has_kids == False').agg({'hotel'  : 'count'})"
   ]
  },
  {
   "cell_type": "code",
   "execution_count": null,
   "id": "11eb43e4",
   "metadata": {},
   "outputs": [],
   "source": []
  }
 ],
 "metadata": {
  "kernelspec": {
   "display_name": "Python 3 (ipykernel)",
   "language": "python",
   "name": "python3"
  },
  "language_info": {
   "codemirror_mode": {
    "name": "ipython",
    "version": 3
   },
   "file_extension": ".py",
   "mimetype": "text/x-python",
   "name": "python",
   "nbconvert_exporter": "python",
   "pygments_lexer": "ipython3",
   "version": "3.9.5"
  }
 },
 "nbformat": 4,
 "nbformat_minor": 5
}
